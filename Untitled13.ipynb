{
  "nbformat": 4,
  "nbformat_minor": 0,
  "metadata": {
    "colab": {
      "name": "Untitled13.ipynb",
      "provenance": [],
      "authorship_tag": "ABX9TyP5r8a5GrZM8lTtCrVCdkt/",
      "include_colab_link": true
    },
    "kernelspec": {
      "name": "python3",
      "display_name": "Python 3"
    }
  },
  "cells": [
    {
      "cell_type": "markdown",
      "metadata": {
        "id": "view-in-github",
        "colab_type": "text"
      },
      "source": [
        "<a href=\"https://colab.research.google.com/github/ssunilkumar/intro_test/blob/master/Untitled13.ipynb\" target=\"_parent\"><img src=\"https://colab.research.google.com/assets/colab-badge.svg\" alt=\"Open In Colab\"/></a>"
      ]
    },
    {
      "cell_type": "code",
      "metadata": {
        "id": "HQjBPncUm8nv",
        "colab_type": "code",
        "colab": {
          "base_uri": "https://localhost:8080/",
          "height": 255
        },
        "outputId": "ddc63814-132c-4101-9f85-e290eca29053"
      },
      "source": [
        "import pandas as pd\n",
        "aac = pd.read_excel('AAC for Pandas.xlsx')\n",
        "aac.head"
      ],
      "execution_count": 1,
      "outputs": [
        {
          "output_type": "execute_result",
          "data": {
            "text/plain": [
              "<bound method NDFrame.head of        Untitled\n",
              "0     29.615148\n",
              "1     29.661226\n",
              "2     29.628315\n",
              "3     29.634890\n",
              "4     29.628315\n",
              "...         ...\n",
              "6981  29.496630\n",
              "6982  29.496630\n",
              "6983  29.496630\n",
              "6984  29.496630\n",
              "6985  29.496630\n",
              "\n",
              "[6986 rows x 1 columns]>"
            ]
          },
          "metadata": {
            "tags": []
          },
          "execution_count": 1
        }
      ]
    },
    {
      "cell_type": "code",
      "metadata": {
        "id": "cZNlniMxxQ2x",
        "colab_type": "code",
        "colab": {}
      },
      "source": [
        ""
      ],
      "execution_count": null,
      "outputs": []
    }
  ]
}